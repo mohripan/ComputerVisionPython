{
  "nbformat": 4,
  "nbformat_minor": 0,
  "metadata": {
    "colab": {
      "name": "RobotWorldExercise.ipynb",
      "provenance": [],
      "authorship_tag": "ABX9TyPsmB2om+7DEt9TFlFUt7cz",
      "include_colab_link": true
    },
    "kernelspec": {
      "name": "python3",
      "display_name": "Python 3"
    },
    "language_info": {
      "name": "python"
    }
  },
  "cells": [
    {
      "cell_type": "markdown",
      "metadata": {
        "id": "view-in-github",
        "colab_type": "text"
      },
      "source": [
        "<a href=\"https://colab.research.google.com/github/mohripan/ComputerVisionPython/blob/main/RobotWorldExercise.ipynb\" target=\"_parent\"><img src=\"https://colab.research.google.com/assets/colab-badge.svg\" alt=\"Open In Colab\"/></a>"
      ]
    },
    {
      "cell_type": "code",
      "execution_count": 1,
      "metadata": {
        "id": "VQq70DHuMtgx"
      },
      "outputs": [],
      "source": [
        "import matplotlib.pyplot as plt\n",
        "import numpy as np"
      ]
    },
    {
      "cell_type": "code",
      "source": [
        "p = [0.2, 0.2, 0.2, 0.2, 0.2]\n",
        "print(p)"
      ],
      "metadata": {
        "colab": {
          "base_uri": "https://localhost:8080/"
        },
        "id": "14bSAeo-N6g1",
        "outputId": "dd686684-2346-4ded-d82f-0a2523edc023"
      },
      "execution_count": 2,
      "outputs": [
        {
          "output_type": "stream",
          "name": "stdout",
          "text": [
            "[0.2, 0.2, 0.2, 0.2, 0.2]\n"
          ]
        }
      ]
    },
    {
      "cell_type": "code",
      "source": [
        "def display_map(grid, bar_width=1):\n",
        "  if(len(grid) > 0):\n",
        "    x_labels = range(len(grid))\n",
        "    plt.bar(x_labels, height=grid, width=bar_width, color='b')\n",
        "    plt.xlabel('Grid Cell')\n",
        "    plt.ylabel('Probability')\n",
        "    plt.ylim(0, 1)\n",
        "    plt.title('Probability of the robot being at each cell in the grid')\n",
        "    plt.xticks(np.arange(min(x_labels), max(x_labels)+1, 1))\n",
        "    plt.show()\n",
        "  else:\n",
        "    print('Grid is empty!')\n",
        "\n",
        "display_map(p)"
      ],
      "metadata": {
        "colab": {
          "base_uri": "https://localhost:8080/",
          "height": 295
        },
        "id": "CDKbzLtpN9BV",
        "outputId": "ed212637-12ba-462f-8def-bf8e3338f0e8"
      },
      "execution_count": 3,
      "outputs": [
        {
          "output_type": "display_data",
          "data": {
            "text/plain": [
              "<Figure size 432x288 with 1 Axes>"
            ],
            "image/png": "[encoded data removed]"
          },
          "metadata": {
            "needs_background": "light"
          }
        }
      ]
    },
    {
      "cell_type": "code",
      "source": [
        "def initialize_robot(grid_length):\n",
        "  p = []\n",
        "\n",
        "  value = 1/grid_length\n",
        "\n",
        "  for i in range(grid_length):\n",
        "    p.append(value)\n",
        "  return p"
      ],
      "metadata": {
        "id": "S4MxY01POlnG"
      },
      "execution_count": 6,
      "outputs": []
    },
    {
      "cell_type": "code",
      "source": [
        "p = initialize_robot(8)\n",
        "print(p)\n",
        "display_map(p)"
      ],
      "metadata": {
        "colab": {
          "base_uri": "https://localhost:8080/",
          "height": 312
        },
        "id": "VxMFIfqGO_2p",
        "outputId": "733e38fc-c049-4d25-dffd-4efd6220d6c5"
      },
      "execution_count": 8,
      "outputs": [
        {
          "output_type": "stream",
          "name": "stdout",
          "text": [
            "[0.125, 0.125, 0.125, 0.125, 0.125, 0.125, 0.125, 0.125]\n"
          ]
        },
        {
          "output_type": "display_data",
          "data": {
            "text/plain": [
              "<Figure size 432x288 with 1 Axes>"
            ],
            "image/png": "[encoded data removed]"
          },
          "metadata": {
            "needs_background": "light"
          }
        }
      ]
    },
    {
      "cell_type": "code",
      "source": [
        ""
      ],
      "metadata": {
        "id": "cVkRiPc7PCVa"
      },
      "execution_count": null,
      "outputs": []
    }
  ]
}